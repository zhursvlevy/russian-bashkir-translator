{
 "cells": [
  {
   "cell_type": "code",
   "execution_count": 1,
   "id": "dfe737d4-d304-4f71-a1ab-860013418c07",
   "metadata": {},
   "outputs": [
    {
     "name": "stderr",
     "output_type": "stream",
     "text": [
      "/Library/Frameworks/Python.framework/Versions/3.11/lib/python3.11/site-packages/tqdm/auto.py:21: TqdmWarning: IProgress not found. Please update jupyter and ipywidgets. See https://ipywidgets.readthedocs.io/en/stable/user_install.html\n",
      "  from .autonotebook import tqdm as notebook_tqdm\n"
     ]
    }
   ],
   "source": [
    "import numpy as np\n",
    "import pandas as pd\n",
    "import seaborn as sns\n",
    "import matplotlib.pyplot as plt\n",
    "from sklearn.model_selection import train_test_split\n",
    "\n",
    "from transformers import T5TokenizerFast\n",
    "\n",
    "import sys\n",
    "sys.path.append(\"../\")\n",
    "\n",
    "from src.data.ba_ru_dataset import BaRuDataset\n",
    "\n"
   ]
  },
  {
   "cell_type": "code",
   "execution_count": 2,
   "id": "e264e9f6-d4a6-4710-9b9f-bed16c64edbd",
   "metadata": {},
   "outputs": [],
   "source": [
    "data = pd.read_parquet(\"../data/dataset/source/train-00000-of-00001-cb5cc9a04cc776c6.parquet\")"
   ]
  },
  {
   "cell_type": "code",
   "execution_count": 3,
   "id": "91c92aaf-2b87-4454-a671-487122c1a804",
   "metadata": {},
   "outputs": [
    {
     "data": {
      "text/html": [
       "<div>\n",
       "<style scoped>\n",
       "    .dataframe tbody tr th:only-of-type {\n",
       "        vertical-align: middle;\n",
       "    }\n",
       "\n",
       "    .dataframe tbody tr th {\n",
       "        vertical-align: top;\n",
       "    }\n",
       "\n",
       "    .dataframe thead th {\n",
       "        text-align: right;\n",
       "    }\n",
       "</style>\n",
       "<table border=\"1\" class=\"dataframe\">\n",
       "  <thead>\n",
       "    <tr style=\"text-align: right;\">\n",
       "      <th></th>\n",
       "      <th>ba</th>\n",
       "      <th>ru</th>\n",
       "      <th>corpus</th>\n",
       "    </tr>\n",
       "  </thead>\n",
       "  <tbody>\n",
       "    <tr>\n",
       "      <th>0</th>\n",
       "      <td>– Өфө: Китап, 2013.</td>\n",
       "      <td>– Уфа: Китап, 2021.</td>\n",
       "      <td>https://t.me/bashkort_translate_bot</td>\n",
       "    </tr>\n",
       "    <tr>\n",
       "      <th>1</th>\n",
       "      <td>— Бүре һуҡты, бабайҙы бүре һуҡты!</td>\n",
       "      <td>— Волк ударил моего старика, волк ударил!</td>\n",
       "      <td>https://t.me/bashkort_translate_bot</td>\n",
       "    </tr>\n",
       "    <tr>\n",
       "      <th>2</th>\n",
       "      <td>Һикелә, мине күҙәтә-күҙәтә, батмуста борсаҡ тә...</td>\n",
       "      <td>Мама вскочила с нар, сидя на которых перебирал...</td>\n",
       "      <td>https://t.me/bashkort_translate_bot</td>\n",
       "    </tr>\n",
       "    <tr>\n",
       "      <th>3</th>\n",
       "      <td>Ҡыҙҙырылған бойҙай, йәғни ҡурмас, ыуыҙ ҡоймағы...</td>\n",
       "      <td>Иногда в нашем доме пахнет курмасом из каленой...</td>\n",
       "      <td>https://t.me/bashkort_translate_bot</td>\n",
       "    </tr>\n",
       "    <tr>\n",
       "      <th>4</th>\n",
       "      <td>Илағым килде ҡапыл...</td>\n",
       "      <td>Мне вдруг захотелось заплакать...</td>\n",
       "      <td>https://t.me/bashkort_translate_bot</td>\n",
       "    </tr>\n",
       "  </tbody>\n",
       "</table>\n",
       "</div>"
      ],
      "text/plain": [
       "                                                  ba  \\\n",
       "0                                – Өфө: Китап, 2013.   \n",
       "1                  — Бүре һуҡты, бабайҙы бүре һуҡты!   \n",
       "2  Һикелә, мине күҙәтә-күҙәтә, батмуста борсаҡ тә...   \n",
       "3  Ҡыҙҙырылған бойҙай, йәғни ҡурмас, ыуыҙ ҡоймағы...   \n",
       "4                              Илағым килде ҡапыл...   \n",
       "\n",
       "                                                  ru  \\\n",
       "0                                – Уфа: Китап, 2021.   \n",
       "1          — Волк ударил моего старика, волк ударил!   \n",
       "2  Мама вскочила с нар, сидя на которых перебирал...   \n",
       "3  Иногда в нашем доме пахнет курмасом из каленой...   \n",
       "4                  Мне вдруг захотелось заплакать...   \n",
       "\n",
       "                                corpus  \n",
       "0  https://t.me/bashkort_translate_bot  \n",
       "1  https://t.me/bashkort_translate_bot  \n",
       "2  https://t.me/bashkort_translate_bot  \n",
       "3  https://t.me/bashkort_translate_bot  \n",
       "4  https://t.me/bashkort_translate_bot  "
      ]
     },
     "execution_count": 3,
     "metadata": {},
     "output_type": "execute_result"
    }
   ],
   "source": [
    "data.head()"
   ]
  },
  {
   "cell_type": "code",
   "execution_count": 8,
   "id": "8a29414a",
   "metadata": {},
   "outputs": [
    {
     "data": {
      "text/plain": [
       "(710718, 3)"
      ]
     },
     "execution_count": 8,
     "metadata": {},
     "output_type": "execute_result"
    }
   ],
   "source": [
    "data.shape"
   ]
  },
  {
   "cell_type": "code",
   "execution_count": 19,
   "id": "71255148",
   "metadata": {},
   "outputs": [],
   "source": [
    "ba_sentense_length = (data[\"ba\"].str.count(\" \") + 1).tolist()\n",
    "ru_sentense_length = (data[\"ru\"].str.count(\" \") + 1).tolist()"
   ]
  },
  {
   "cell_type": "code",
   "execution_count": 25,
   "id": "c2b7db17",
   "metadata": {},
   "outputs": [],
   "source": [
    "ba_q95 = np.quantile(ba_sentense_length, 0.95)\n",
    "ru_q95 = np.quantile(ru_sentense_length, 0.95)"
   ]
  },
  {
   "cell_type": "code",
   "execution_count": 26,
   "id": "7e527d09",
   "metadata": {},
   "outputs": [
    {
     "data": {
      "text/plain": [
       "<matplotlib.legend.Legend at 0x13c3817d0>"
      ]
     },
     "execution_count": 26,
     "metadata": {},
     "output_type": "execute_result"
    },
    {
     "data": {
      "image/png": "[encoded data removed]",
      "text/plain": [
       "<Figure size 1000x500 with 2 Axes>"
      ]
     },
     "metadata": {},
     "output_type": "display_data"
    }
   ],
   "source": [
    "fig, ax = plt.subplots(1, 2, figsize=(10, 5))\n",
    "sns.histplot(x=ba_sentense_length, bins=50, ax=ax[0])\n",
    "sns.histplot(x=ru_sentense_length, bins=50, ax=ax[1])\n",
    "ax[0].set_yscale(\"log\")\n",
    "ax[1].set_yscale(\"log\")\n",
    "ax[0].axvline(ba_q95, label=f\"ba q95: {ba_q95}\")\n",
    "ax[1].axvline(ru_q95, label=f\"ru q95: {ru_q95}\")\n",
    "ax[0].legend()\n",
    "ax[1].legend()"
   ]
  },
  {
   "cell_type": "code",
   "execution_count": 27,
   "id": "9c449336",
   "metadata": {},
   "outputs": [
    {
     "data": {
      "text/plain": [
       "('– Анна с надеждой устремила на него задумчивые карие глаза.', 9)"
      ]
     },
     "execution_count": 27,
     "metadata": {},
     "output_type": "execute_result"
    }
   ],
   "source": [
    "data.iloc[10000][\"ru\"], data.iloc[10000][\"ru\"].count(\" \"), "
   ]
  },
  {
   "cell_type": "code",
   "execution_count": 5,
   "id": "ae2cb4d1-e0a4-4c47-885f-c10fdd521f6f",
   "metadata": {},
   "outputs": [],
   "source": [
    "random_state = 42\n",
    "train, test = train_test_split(data, random_state=random_state, test_size=0.2)\n",
    "train, val = train_test_split(train, random_state=random_state, test_size=0.1)\n",
    "\n",
    "train.to_parquet(\"../data/dataset/splits/train.parquet\")\n",
    "val.to_parquet(\"../data/dataset/splits/val.parquet\")\n",
    "test.to_parquet(\"../data/dataset/splits/test.parquet\")"
   ]
  },
  {
   "cell_type": "code",
   "execution_count": 8,
   "id": "4d07a245-7693-41d0-886e-bf03b63a5ff9",
   "metadata": {},
   "outputs": [
    {
     "name": "stderr",
     "output_type": "stream",
     "text": [
      "You are using the legacy behaviour of the <class 'transformers.models.t5.tokenization_t5.T5Tokenizer'>. This means that tokens that come after special tokens will not be properly handled. We recommend you to read the related pull request available at https://github.com/huggingface/transformers/pull/24565\n"
     ]
    },
    {
     "name": "stdout",
     "output_type": "stream",
     "text": [
      "Конечно, Мавлида немного растяпа, говорила же, как она оплевала всю грудь...\n",
      "['▁Конечно', ',', '▁Ма', 'в', 'ли', 'да', '▁немного', '▁раст', 'я', 'па', ',', '▁говорила', '▁же', ',', '▁как', '▁она', '▁о', 'пле', 'вала', '▁всю', '▁грудь', '...']\n"
     ]
    }
   ],
   "source": [
    "dset = BaRuDataset(\"../data/dataset/source/train-00000-of-00001-cb5cc9a04cc776c6.parquet\")\n",
    "\n",
    "fast_tokenizer = T5TokenizerFast(vocab_file=\"../model.model\")\n",
    "\n",
    "sent = dset[25][1]\n",
    "\n",
    "print(sent)\n",
    "print(fast_tokenizer.tokenize(sent))"
   ]
  },
  {
   "cell_type": "code",
   "execution_count": 3,
   "id": "ddc794e1-2dae-41be-9e3b-9e0fe6e86792",
   "metadata": {},
   "outputs": [
    {
     "name": "stdout",
     "output_type": "stream",
     "text": [
      "Мәүлиҙә мәүешерәк инде ул, әйттем дәһә, түшенә төкөрә, тип...\n",
      "['▁М', 'әү', 'ли', 'ҙә', '▁', 'мәү', 'еш', 'ерәк', '▁инде', '▁ул', ',', '▁әйтте', 'м', '▁дә', 'һә', ',', '▁түш', 'енә', '▁төк', 'өрә', ',', '▁тип', '...']\n"
     ]
    }
   ],
   "source": [
    "dset = BaRuDataset(\"../data/dataset/source/train-00000-of-00001-cb5cc9a04cc776c6.parquet\")\n",
    "\n",
    "fast_tokenizer = T5TokenizerFast(vocab_file=\"../model.model\")\n",
    "\n",
    "sent = dset[25][0]\n",
    "\n",
    "print(sent)\n",
    "print(fast_tokenizer.tokenize(sent))"
   ]
  },
  {
   "cell_type": "code",
   "execution_count": null,
   "id": "545b09bd",
   "metadata": {},
   "outputs": [],
   "source": []
  }
 ],
 "metadata": {
  "kernelspec": {
   "display_name": "Python 3 (ipykernel)",
   "language": "python",
   "name": "python3"
  },
  "language_info": {
   "codemirror_mode": {
    "name": "ipython",
    "version": 3
   },
   "file_extension": ".py",
   "mimetype": "text/x-python",
   "name": "python",
   "nbconvert_exporter": "python",
   "pygments_lexer": "ipython3",
   "version": "3.11.4"
  }
 },
 "nbformat": 4,
 "nbformat_minor": 5
}
