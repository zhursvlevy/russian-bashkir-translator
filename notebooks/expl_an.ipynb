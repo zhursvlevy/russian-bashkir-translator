{
 "cells": [
  {
   "cell_type": "code",
   "execution_count": 3,
   "id": "dfe737d4-d304-4f71-a1ab-860013418c07",
   "metadata": {},
   "outputs": [],
   "source": [
    "import pandas as pd\n",
    "from sklearn.model_selection import train_test_split\n",
    "\n",
    "from transformers import T5Tokenizer, T5TokenizerFast\n",
    "from torch.utils.data import Dataset\n",
    "\n",
    "import sys\n",
    "sys.path.append(\"/app\")\n",
    "\n",
    "from src.data.ba_ru_dataset import BaRuDataset\n",
    "\n"
   ]
  },
  {
   "cell_type": "code",
   "execution_count": 2,
   "id": "e264e9f6-d4a6-4710-9b9f-bed16c64edbd",
   "metadata": {},
   "outputs": [],
   "source": [
    "data = pd.read_parquet(\"/app/data/dataset/train-00000-of-00001-cb5cc9a04cc776c6.parquet\")"
   ]
  },
  {
   "cell_type": "code",
   "execution_count": 3,
   "id": "91c92aaf-2b87-4454-a671-487122c1a804",
   "metadata": {},
   "outputs": [
    {
     "data": {
      "text/html": [
       "<div>\n",
       "<style scoped>\n",
       "    .dataframe tbody tr th:only-of-type {\n",
       "        vertical-align: middle;\n",
       "    }\n",
       "\n",
       "    .dataframe tbody tr th {\n",
       "        vertical-align: top;\n",
       "    }\n",
       "\n",
       "    .dataframe thead th {\n",
       "        text-align: right;\n",
       "    }\n",
       "</style>\n",
       "<table border=\"1\" class=\"dataframe\">\n",
       "  <thead>\n",
       "    <tr style=\"text-align: right;\">\n",
       "      <th></th>\n",
       "      <th>ba</th>\n",
       "      <th>ru</th>\n",
       "      <th>corpus</th>\n",
       "    </tr>\n",
       "  </thead>\n",
       "  <tbody>\n",
       "    <tr>\n",
       "      <th>0</th>\n",
       "      <td>– Өфө: Китап, 2013.</td>\n",
       "      <td>– Уфа: Китап, 2021.</td>\n",
       "      <td>https://t.me/bashkort_translate_bot</td>\n",
       "    </tr>\n",
       "    <tr>\n",
       "      <th>1</th>\n",
       "      <td>— Бүре һуҡты, бабайҙы бүре һуҡты!</td>\n",
       "      <td>— Волк ударил моего старика, волк ударил!</td>\n",
       "      <td>https://t.me/bashkort_translate_bot</td>\n",
       "    </tr>\n",
       "    <tr>\n",
       "      <th>2</th>\n",
       "      <td>Һикелә, мине күҙәтә-күҙәтә, батмуста борсаҡ тә...</td>\n",
       "      <td>Мама вскочила с нар, сидя на которых перебирал...</td>\n",
       "      <td>https://t.me/bashkort_translate_bot</td>\n",
       "    </tr>\n",
       "    <tr>\n",
       "      <th>3</th>\n",
       "      <td>Ҡыҙҙырылған бойҙай, йәғни ҡурмас, ыуыҙ ҡоймағы...</td>\n",
       "      <td>Иногда в нашем доме пахнет курмасом из каленой...</td>\n",
       "      <td>https://t.me/bashkort_translate_bot</td>\n",
       "    </tr>\n",
       "    <tr>\n",
       "      <th>4</th>\n",
       "      <td>Илағым килде ҡапыл...</td>\n",
       "      <td>Мне вдруг захотелось заплакать...</td>\n",
       "      <td>https://t.me/bashkort_translate_bot</td>\n",
       "    </tr>\n",
       "  </tbody>\n",
       "</table>\n",
       "</div>"
      ],
      "text/plain": [
       "                                                  ba  \\\n",
       "0                                – Өфө: Китап, 2013.   \n",
       "1                  — Бүре һуҡты, бабайҙы бүре һуҡты!   \n",
       "2  Һикелә, мине күҙәтә-күҙәтә, батмуста борсаҡ тә...   \n",
       "3  Ҡыҙҙырылған бойҙай, йәғни ҡурмас, ыуыҙ ҡоймағы...   \n",
       "4                              Илағым килде ҡапыл...   \n",
       "\n",
       "                                                  ru  \\\n",
       "0                                – Уфа: Китап, 2021.   \n",
       "1          — Волк ударил моего старика, волк ударил!   \n",
       "2  Мама вскочила с нар, сидя на которых перебирал...   \n",
       "3  Иногда в нашем доме пахнет курмасом из каленой...   \n",
       "4                  Мне вдруг захотелось заплакать...   \n",
       "\n",
       "                                corpus  \n",
       "0  https://t.me/bashkort_translate_bot  \n",
       "1  https://t.me/bashkort_translate_bot  \n",
       "2  https://t.me/bashkort_translate_bot  \n",
       "3  https://t.me/bashkort_translate_bot  \n",
       "4  https://t.me/bashkort_translate_bot  "
      ]
     },
     "execution_count": 3,
     "metadata": {},
     "output_type": "execute_result"
    }
   ],
   "source": [
    "data.head()"
   ]
  },
  {
   "cell_type": "code",
   "execution_count": 5,
   "id": "ae2cb4d1-e0a4-4c47-885f-c10fdd521f6f",
   "metadata": {},
   "outputs": [],
   "source": [
    "random_state = 42\n",
    "train, val = train_test_split(data, random_state=random_state, test_size=0.2)\n",
    "val, test = train_test_split(val, random_state=random_state, test_size=0.5)\n",
    "\n",
    "train.to_parquet(\"/app/data/dataset/splits/train.parquet\")\n",
    "val.to_parquet(\"/app/data/dataset/splits/val.parquet\")\n",
    "test.to_parquet(\"/app/data/dataset/splits/test.parquet\")"
   ]
  },
  {
   "cell_type": "code",
   "execution_count": 9,
   "id": "4d07a245-7693-41d0-886e-bf03b63a5ff9",
   "metadata": {},
   "outputs": [
    {
     "name": "stdout",
     "output_type": "stream",
     "text": [
      "Конечно, Мавлида немного растяпа, говорила же, как она оплевала всю грудь...\n",
      "['▁Конечно', ',', '▁Мавлида', '▁немного', '▁раст', 'я', 'па', ',', '▁говорил', 'а', '▁же', ',', '▁как', '▁она', '▁оп', 'лева', 'ла', '▁всю', '▁грудь', '...']\n"
     ]
    }
   ],
   "source": [
    "dset = BaRuDataset(\"/app/data/dataset/train-00000-of-00001-cb5cc9a04cc776c6.parquet\")\n",
    "\n",
    "fast_tokenizer = T5TokenizerFast.from_pretrained(\"/app/data/ru_t5_tokenizer\")\n",
    "\n",
    "sent = dset[25][1]\n",
    "\n",
    "print(sent)\n",
    "print(fast_tokenizer.tokenize(sent))"
   ]
  },
  {
   "cell_type": "code",
   "execution_count": null,
   "id": "ddc794e1-2dae-41be-9e3b-9e0fe6e86792",
   "metadata": {},
   "outputs": [],
   "source": []
  }
 ],
 "metadata": {
  "kernelspec": {
   "display_name": "Python 3 (ipykernel)",
   "language": "python",
   "name": "python3"
  },
  "language_info": {
   "codemirror_mode": {
    "name": "ipython",
    "version": 3
   },
   "file_extension": ".py",
   "mimetype": "text/x-python",
   "name": "python",
   "nbconvert_exporter": "python",
   "pygments_lexer": "ipython3",
   "version": "3.10.6"
  }
 },
 "nbformat": 4,
 "nbformat_minor": 5
}
